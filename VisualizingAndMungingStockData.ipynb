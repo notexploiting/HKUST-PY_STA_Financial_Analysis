{
 "cells": [
  {
   "cell_type": "markdown",
   "metadata": {},
   "source": [
    "# Packages for Data Analysis\n",
    "\n",
    "**Pandas**\n",
    "\n",
    "* Excellent data structure\n",
    "* Pre-process data easily with DataFrame\n",
    "\n",
    "**Numpy**\n",
    "\n",
    "- Array and matrix computing\n",
    "- Generate random numbers for shuffling data\n",
    "\n",
    "**Matplotlib**\n",
    "\n",
    "- Produces high quality figures\n",
    "\n",
    "**Statsmodels**\n",
    "\n",
    "- Modules for regression and time series analysis"
   ]
  },
  {
   "cell_type": "markdown",
   "metadata": {},
   "source": [
    "# Importing data\n",
    "Import pandas for DataFrame"
   ]
  },
  {
   "cell_type": "code",
   "execution_count": 102,
   "metadata": {},
   "outputs": [],
   "source": [
    "# Import the package \"Pandas\" into Jupyter Notebook\n",
    "import pandas as pd\n",
    "# Now you can use pd like\n",
    "# pd.FunctionName\n",
    "# pd.ModuleName"
   ]
  },
  {
   "cell_type": "code",
   "execution_count": 165,
   "metadata": {},
   "outputs": [],
   "source": [
    "import matplotlib.pyplot as plt"
   ]
  },
  {
   "cell_type": "markdown",
   "metadata": {},
   "source": [
    "We want to import facebook.csv and microsoft.csv. These are historical stock data of Facebook and Microsoft. We are using DataFrame to store data, therefore we need pd. "
   ]
  },
  {
   "cell_type": "code",
   "execution_count": 158,
   "metadata": {},
   "outputs": [],
   "source": [
    "# Import the stock data of Facebook and Microsoft into Jupyter Notebook. \n",
    "fb = pd.read_csv('data/facebook.csv')\n",
    "ms = pd.read_csv('data/microsoft.csv')"
   ]
  },
  {
   "cell_type": "markdown",
   "metadata": {},
   "source": [
    "# Basics of DataFrame"
   ]
  },
  {
   "cell_type": "code",
   "execution_count": 104,
   "metadata": {},
   "outputs": [
    {
     "data": {
      "text/html": [
       "<div>\n",
       "<style scoped>\n",
       "    .dataframe tbody tr th:only-of-type {\n",
       "        vertical-align: middle;\n",
       "    }\n",
       "\n",
       "    .dataframe tbody tr th {\n",
       "        vertical-align: top;\n",
       "    }\n",
       "\n",
       "    .dataframe thead th {\n",
       "        text-align: right;\n",
       "    }\n",
       "</style>\n",
       "<table border=\"1\" class=\"dataframe\">\n",
       "  <thead>\n",
       "    <tr style=\"text-align: right;\">\n",
       "      <th></th>\n",
       "      <th>Date</th>\n",
       "      <th>Open</th>\n",
       "      <th>High</th>\n",
       "      <th>Low</th>\n",
       "      <th>Close</th>\n",
       "      <th>Adj Close</th>\n",
       "      <th>Volume</th>\n",
       "    </tr>\n",
       "  </thead>\n",
       "  <tbody>\n",
       "    <tr>\n",
       "      <th>0</th>\n",
       "      <td>2014-12-31</td>\n",
       "      <td>20.400000</td>\n",
       "      <td>20.510000</td>\n",
       "      <td>19.990000</td>\n",
       "      <td>20.049999</td>\n",
       "      <td>19.459270</td>\n",
       "      <td>4157500</td>\n",
       "    </tr>\n",
       "    <tr>\n",
       "      <th>1</th>\n",
       "      <td>2015-01-02</td>\n",
       "      <td>20.129999</td>\n",
       "      <td>20.280001</td>\n",
       "      <td>19.809999</td>\n",
       "      <td>20.129999</td>\n",
       "      <td>19.536913</td>\n",
       "      <td>2842000</td>\n",
       "    </tr>\n",
       "    <tr>\n",
       "      <th>2</th>\n",
       "      <td>2015-01-05</td>\n",
       "      <td>20.129999</td>\n",
       "      <td>20.190001</td>\n",
       "      <td>19.700001</td>\n",
       "      <td>19.790001</td>\n",
       "      <td>19.206934</td>\n",
       "      <td>4948800</td>\n",
       "    </tr>\n",
       "    <tr>\n",
       "      <th>3</th>\n",
       "      <td>2015-01-06</td>\n",
       "      <td>19.820000</td>\n",
       "      <td>19.840000</td>\n",
       "      <td>19.170000</td>\n",
       "      <td>19.190001</td>\n",
       "      <td>18.624611</td>\n",
       "      <td>4944100</td>\n",
       "    </tr>\n",
       "    <tr>\n",
       "      <th>4</th>\n",
       "      <td>2015-01-07</td>\n",
       "      <td>19.330000</td>\n",
       "      <td>19.500000</td>\n",
       "      <td>19.080000</td>\n",
       "      <td>19.139999</td>\n",
       "      <td>18.576082</td>\n",
       "      <td>8045200</td>\n",
       "    </tr>\n",
       "  </tbody>\n",
       "</table>\n",
       "</div>"
      ],
      "text/plain": [
       "         Date       Open       High        Low      Close  Adj Close   Volume\n",
       "0  2014-12-31  20.400000  20.510000  19.990000  20.049999  19.459270  4157500\n",
       "1  2015-01-02  20.129999  20.280001  19.809999  20.129999  19.536913  2842000\n",
       "2  2015-01-05  20.129999  20.190001  19.700001  19.790001  19.206934  4948800\n",
       "3  2015-01-06  19.820000  19.840000  19.170000  19.190001  18.624611  4944100\n",
       "4  2015-01-07  19.330000  19.500000  19.080000  19.139999  18.576082  8045200"
      ]
     },
     "execution_count": 104,
     "metadata": {},
     "output_type": "execute_result"
    }
   ],
   "source": [
    "fb.head()"
   ]
  },
  {
   "cell_type": "markdown",
   "metadata": {},
   "source": [
    "`fb.head()` gives us the first five rows of the `fb` DataFrame. There is an index, which gives a base for each row.\n",
    "- `Open` and `Close` are the opening price and closing price\n",
    "- `High`  and `low` are the highest in price and lowest in price\n",
    "- `Adj Close` is a stock closing price, on a given day of trading that has been amended to include any dispution and the corporate actions occurred at anytime before the next day’s open."
   ]
  },
  {
   "cell_type": "code",
   "execution_count": 105,
   "metadata": {},
   "outputs": [
    {
     "data": {
      "text/plain": [
       "RangeIndex(start=0, stop=780, step=1)"
      ]
     },
     "execution_count": 105,
     "metadata": {},
     "output_type": "execute_result"
    }
   ],
   "source": [
    "fb.index"
   ]
  },
  {
   "cell_type": "code",
   "execution_count": 106,
   "metadata": {},
   "outputs": [
    {
     "data": {
      "text/plain": [
       "0"
      ]
     },
     "execution_count": 106,
     "metadata": {},
     "output_type": "execute_result"
    }
   ],
   "source": [
    "# The first item\n",
    "fb.index[0]"
   ]
  },
  {
   "cell_type": "code",
   "execution_count": 107,
   "metadata": {},
   "outputs": [
    {
     "data": {
      "text/plain": [
       "779"
      ]
     },
     "execution_count": 107,
     "metadata": {},
     "output_type": "execute_result"
    }
   ],
   "source": [
    "# The last item\n",
    "fb.index[-1]"
   ]
  },
  {
   "cell_type": "code",
   "execution_count": 108,
   "metadata": {},
   "outputs": [
    {
     "data": {
      "text/plain": [
       "Index(['Date', 'Open', 'High', 'Low', 'Close', 'Adj Close', 'Volume'], dtype='object')"
      ]
     },
     "execution_count": 108,
     "metadata": {},
     "output_type": "execute_result"
    }
   ],
   "source": [
    "# Display the columns\n",
    "fb.columns"
   ]
  },
  {
   "cell_type": "code",
   "execution_count": 109,
   "metadata": {},
   "outputs": [
    {
     "data": {
      "text/plain": [
       "(780, 7)"
      ]
     },
     "execution_count": 109,
     "metadata": {},
     "output_type": "execute_result"
    }
   ],
   "source": [
    "# Display the number of rows (observations) and columns (categories)\n",
    "fb.shape"
   ]
  },
  {
   "cell_type": "code",
   "execution_count": 110,
   "metadata": {},
   "outputs": [
    {
     "data": {
      "text/html": [
       "<div>\n",
       "<style scoped>\n",
       "    .dataframe tbody tr th:only-of-type {\n",
       "        vertical-align: middle;\n",
       "    }\n",
       "\n",
       "    .dataframe tbody tr th {\n",
       "        vertical-align: top;\n",
       "    }\n",
       "\n",
       "    .dataframe thead th {\n",
       "        text-align: right;\n",
       "    }\n",
       "</style>\n",
       "<table border=\"1\" class=\"dataframe\">\n",
       "  <thead>\n",
       "    <tr style=\"text-align: right;\">\n",
       "      <th></th>\n",
       "      <th>Date</th>\n",
       "      <th>Open</th>\n",
       "      <th>High</th>\n",
       "      <th>Low</th>\n",
       "      <th>Close</th>\n",
       "      <th>Adj Close</th>\n",
       "      <th>Volume</th>\n",
       "    </tr>\n",
       "  </thead>\n",
       "  <tbody>\n",
       "    <tr>\n",
       "      <th>0</th>\n",
       "      <td>2014-12-31</td>\n",
       "      <td>20.400000</td>\n",
       "      <td>20.510000</td>\n",
       "      <td>19.990000</td>\n",
       "      <td>20.049999</td>\n",
       "      <td>19.459270</td>\n",
       "      <td>4157500</td>\n",
       "    </tr>\n",
       "    <tr>\n",
       "      <th>1</th>\n",
       "      <td>2015-01-02</td>\n",
       "      <td>20.129999</td>\n",
       "      <td>20.280001</td>\n",
       "      <td>19.809999</td>\n",
       "      <td>20.129999</td>\n",
       "      <td>19.536913</td>\n",
       "      <td>2842000</td>\n",
       "    </tr>\n",
       "    <tr>\n",
       "      <th>2</th>\n",
       "      <td>2015-01-05</td>\n",
       "      <td>20.129999</td>\n",
       "      <td>20.190001</td>\n",
       "      <td>19.700001</td>\n",
       "      <td>19.790001</td>\n",
       "      <td>19.206934</td>\n",
       "      <td>4948800</td>\n",
       "    </tr>\n",
       "    <tr>\n",
       "      <th>3</th>\n",
       "      <td>2015-01-06</td>\n",
       "      <td>19.820000</td>\n",
       "      <td>19.840000</td>\n",
       "      <td>19.170000</td>\n",
       "      <td>19.190001</td>\n",
       "      <td>18.624611</td>\n",
       "      <td>4944100</td>\n",
       "    </tr>\n",
       "    <tr>\n",
       "      <th>4</th>\n",
       "      <td>2015-01-07</td>\n",
       "      <td>19.330000</td>\n",
       "      <td>19.500000</td>\n",
       "      <td>19.080000</td>\n",
       "      <td>19.139999</td>\n",
       "      <td>18.576082</td>\n",
       "      <td>8045200</td>\n",
       "    </tr>\n",
       "  </tbody>\n",
       "</table>\n",
       "</div>"
      ],
      "text/plain": [
       "         Date       Open       High        Low      Close  Adj Close   Volume\n",
       "0  2014-12-31  20.400000  20.510000  19.990000  20.049999  19.459270  4157500\n",
       "1  2015-01-02  20.129999  20.280001  19.809999  20.129999  19.536913  2842000\n",
       "2  2015-01-05  20.129999  20.190001  19.700001  19.790001  19.206934  4948800\n",
       "3  2015-01-06  19.820000  19.840000  19.170000  19.190001  18.624611  4944100\n",
       "4  2015-01-07  19.330000  19.500000  19.080000  19.139999  18.576082  8045200"
      ]
     },
     "execution_count": 110,
     "metadata": {},
     "output_type": "execute_result"
    }
   ],
   "source": [
    "# Display the first 5 rows\n",
    "fb.head()"
   ]
  },
  {
   "cell_type": "code",
   "execution_count": 111,
   "metadata": {},
   "outputs": [
    {
     "data": {
      "text/html": [
       "<div>\n",
       "<style scoped>\n",
       "    .dataframe tbody tr th:only-of-type {\n",
       "        vertical-align: middle;\n",
       "    }\n",
       "\n",
       "    .dataframe tbody tr th {\n",
       "        vertical-align: top;\n",
       "    }\n",
       "\n",
       "    .dataframe thead th {\n",
       "        text-align: right;\n",
       "    }\n",
       "</style>\n",
       "<table border=\"1\" class=\"dataframe\">\n",
       "  <thead>\n",
       "    <tr style=\"text-align: right;\">\n",
       "      <th></th>\n",
       "      <th>Date</th>\n",
       "      <th>Open</th>\n",
       "      <th>High</th>\n",
       "      <th>Low</th>\n",
       "      <th>Close</th>\n",
       "      <th>Adj Close</th>\n",
       "      <th>Volume</th>\n",
       "    </tr>\n",
       "  </thead>\n",
       "  <tbody>\n",
       "    <tr>\n",
       "      <th>0</th>\n",
       "      <td>2014-12-31</td>\n",
       "      <td>20.400000</td>\n",
       "      <td>20.510000</td>\n",
       "      <td>19.990000</td>\n",
       "      <td>20.049999</td>\n",
       "      <td>19.459270</td>\n",
       "      <td>4157500</td>\n",
       "    </tr>\n",
       "    <tr>\n",
       "      <th>1</th>\n",
       "      <td>2015-01-02</td>\n",
       "      <td>20.129999</td>\n",
       "      <td>20.280001</td>\n",
       "      <td>19.809999</td>\n",
       "      <td>20.129999</td>\n",
       "      <td>19.536913</td>\n",
       "      <td>2842000</td>\n",
       "    </tr>\n",
       "    <tr>\n",
       "      <th>2</th>\n",
       "      <td>2015-01-05</td>\n",
       "      <td>20.129999</td>\n",
       "      <td>20.190001</td>\n",
       "      <td>19.700001</td>\n",
       "      <td>19.790001</td>\n",
       "      <td>19.206934</td>\n",
       "      <td>4948800</td>\n",
       "    </tr>\n",
       "    <tr>\n",
       "      <th>3</th>\n",
       "      <td>2015-01-06</td>\n",
       "      <td>19.820000</td>\n",
       "      <td>19.840000</td>\n",
       "      <td>19.170000</td>\n",
       "      <td>19.190001</td>\n",
       "      <td>18.624611</td>\n",
       "      <td>4944100</td>\n",
       "    </tr>\n",
       "    <tr>\n",
       "      <th>4</th>\n",
       "      <td>2015-01-07</td>\n",
       "      <td>19.330000</td>\n",
       "      <td>19.500000</td>\n",
       "      <td>19.080000</td>\n",
       "      <td>19.139999</td>\n",
       "      <td>18.576082</td>\n",
       "      <td>8045200</td>\n",
       "    </tr>\n",
       "    <tr>\n",
       "      <th>5</th>\n",
       "      <td>2015-01-08</td>\n",
       "      <td>19.360001</td>\n",
       "      <td>19.980000</td>\n",
       "      <td>19.350000</td>\n",
       "      <td>19.860001</td>\n",
       "      <td>19.274870</td>\n",
       "      <td>7094500</td>\n",
       "    </tr>\n",
       "    <tr>\n",
       "      <th>6</th>\n",
       "      <td>2015-01-09</td>\n",
       "      <td>19.930000</td>\n",
       "      <td>20.090000</td>\n",
       "      <td>19.660000</td>\n",
       "      <td>19.940001</td>\n",
       "      <td>19.352512</td>\n",
       "      <td>5238500</td>\n",
       "    </tr>\n",
       "    <tr>\n",
       "      <th>7</th>\n",
       "      <td>2015-01-12</td>\n",
       "      <td>19.990000</td>\n",
       "      <td>20.000000</td>\n",
       "      <td>19.510000</td>\n",
       "      <td>19.690001</td>\n",
       "      <td>19.109879</td>\n",
       "      <td>4768300</td>\n",
       "    </tr>\n",
       "    <tr>\n",
       "      <th>8</th>\n",
       "      <td>2015-01-13</td>\n",
       "      <td>19.840000</td>\n",
       "      <td>20.240000</td>\n",
       "      <td>19.520000</td>\n",
       "      <td>19.660000</td>\n",
       "      <td>19.080761</td>\n",
       "      <td>5909700</td>\n",
       "    </tr>\n",
       "    <tr>\n",
       "      <th>9</th>\n",
       "      <td>2015-01-14</td>\n",
       "      <td>19.450001</td>\n",
       "      <td>19.799999</td>\n",
       "      <td>19.400000</td>\n",
       "      <td>19.740000</td>\n",
       "      <td>19.158401</td>\n",
       "      <td>3881500</td>\n",
       "    </tr>\n",
       "  </tbody>\n",
       "</table>\n",
       "</div>"
      ],
      "text/plain": [
       "         Date       Open       High        Low      Close  Adj Close   Volume\n",
       "0  2014-12-31  20.400000  20.510000  19.990000  20.049999  19.459270  4157500\n",
       "1  2015-01-02  20.129999  20.280001  19.809999  20.129999  19.536913  2842000\n",
       "2  2015-01-05  20.129999  20.190001  19.700001  19.790001  19.206934  4948800\n",
       "3  2015-01-06  19.820000  19.840000  19.170000  19.190001  18.624611  4944100\n",
       "4  2015-01-07  19.330000  19.500000  19.080000  19.139999  18.576082  8045200\n",
       "5  2015-01-08  19.360001  19.980000  19.350000  19.860001  19.274870  7094500\n",
       "6  2015-01-09  19.930000  20.090000  19.660000  19.940001  19.352512  5238500\n",
       "7  2015-01-12  19.990000  20.000000  19.510000  19.690001  19.109879  4768300\n",
       "8  2015-01-13  19.840000  20.240000  19.520000  19.660000  19.080761  5909700\n",
       "9  2015-01-14  19.450001  19.799999  19.400000  19.740000  19.158401  3881500"
      ]
     },
     "execution_count": 111,
     "metadata": {},
     "output_type": "execute_result"
    }
   ],
   "source": [
    "# Display the first 10 rows\n",
    "fb.head(10)"
   ]
  },
  {
   "cell_type": "code",
   "execution_count": 112,
   "metadata": {},
   "outputs": [
    {
     "data": {
      "text/html": [
       "<div>\n",
       "<style scoped>\n",
       "    .dataframe tbody tr th:only-of-type {\n",
       "        vertical-align: middle;\n",
       "    }\n",
       "\n",
       "    .dataframe tbody tr th {\n",
       "        vertical-align: top;\n",
       "    }\n",
       "\n",
       "    .dataframe thead th {\n",
       "        text-align: right;\n",
       "    }\n",
       "</style>\n",
       "<table border=\"1\" class=\"dataframe\">\n",
       "  <thead>\n",
       "    <tr style=\"text-align: right;\">\n",
       "      <th></th>\n",
       "      <th>Open</th>\n",
       "      <th>High</th>\n",
       "      <th>Low</th>\n",
       "      <th>Close</th>\n",
       "      <th>Adj Close</th>\n",
       "      <th>Volume</th>\n",
       "    </tr>\n",
       "  </thead>\n",
       "  <tbody>\n",
       "    <tr>\n",
       "      <th>count</th>\n",
       "      <td>780.000000</td>\n",
       "      <td>780.000000</td>\n",
       "      <td>780.000000</td>\n",
       "      <td>780.000000</td>\n",
       "      <td>780.000000</td>\n",
       "      <td>7.800000e+02</td>\n",
       "    </tr>\n",
       "    <tr>\n",
       "      <th>mean</th>\n",
       "      <td>80.212705</td>\n",
       "      <td>81.285654</td>\n",
       "      <td>79.022397</td>\n",
       "      <td>80.264897</td>\n",
       "      <td>79.914215</td>\n",
       "      <td>1.204453e+07</td>\n",
       "    </tr>\n",
       "    <tr>\n",
       "      <th>std</th>\n",
       "      <td>64.226121</td>\n",
       "      <td>65.048907</td>\n",
       "      <td>63.190963</td>\n",
       "      <td>64.198375</td>\n",
       "      <td>64.327846</td>\n",
       "      <td>8.221848e+06</td>\n",
       "    </tr>\n",
       "    <tr>\n",
       "      <th>min</th>\n",
       "      <td>19.250000</td>\n",
       "      <td>19.500000</td>\n",
       "      <td>18.940001</td>\n",
       "      <td>19.139999</td>\n",
       "      <td>18.576082</td>\n",
       "      <td>1.311200e+06</td>\n",
       "    </tr>\n",
       "    <tr>\n",
       "      <th>25%</th>\n",
       "      <td>25.525000</td>\n",
       "      <td>26.085000</td>\n",
       "      <td>24.845000</td>\n",
       "      <td>25.475000</td>\n",
       "      <td>25.134512</td>\n",
       "      <td>7.215200e+06</td>\n",
       "    </tr>\n",
       "    <tr>\n",
       "      <th>50%</th>\n",
       "      <td>53.379999</td>\n",
       "      <td>54.034999</td>\n",
       "      <td>52.930000</td>\n",
       "      <td>53.420000</td>\n",
       "      <td>53.035402</td>\n",
       "      <td>9.728700e+06</td>\n",
       "    </tr>\n",
       "    <tr>\n",
       "      <th>75%</th>\n",
       "      <td>113.322502</td>\n",
       "      <td>115.779999</td>\n",
       "      <td>110.297499</td>\n",
       "      <td>113.702501</td>\n",
       "      <td>113.261238</td>\n",
       "      <td>1.408885e+07</td>\n",
       "    </tr>\n",
       "    <tr>\n",
       "      <th>max</th>\n",
       "      <td>245.770004</td>\n",
       "      <td>249.270004</td>\n",
       "      <td>244.449997</td>\n",
       "      <td>246.850006</td>\n",
       "      <td>246.850006</td>\n",
       "      <td>9.232320e+07</td>\n",
       "    </tr>\n",
       "  </tbody>\n",
       "</table>\n",
       "</div>"
      ],
      "text/plain": [
       "             Open        High         Low       Close   Adj Close  \\\n",
       "count  780.000000  780.000000  780.000000  780.000000  780.000000   \n",
       "mean    80.212705   81.285654   79.022397   80.264897   79.914215   \n",
       "std     64.226121   65.048907   63.190963   64.198375   64.327846   \n",
       "min     19.250000   19.500000   18.940001   19.139999   18.576082   \n",
       "25%     25.525000   26.085000   24.845000   25.475000   25.134512   \n",
       "50%     53.379999   54.034999   52.930000   53.420000   53.035402   \n",
       "75%    113.322502  115.779999  110.297499  113.702501  113.261238   \n",
       "max    245.770004  249.270004  244.449997  246.850006  246.850006   \n",
       "\n",
       "             Volume  \n",
       "count  7.800000e+02  \n",
       "mean   1.204453e+07  \n",
       "std    8.221848e+06  \n",
       "min    1.311200e+06  \n",
       "25%    7.215200e+06  \n",
       "50%    9.728700e+06  \n",
       "75%    1.408885e+07  \n",
       "max    9.232320e+07  "
      ]
     },
     "execution_count": 112,
     "metadata": {},
     "output_type": "execute_result"
    }
   ],
   "source": [
    "# A description, such as mean, std, min, max\n",
    "fb.describe()"
   ]
  },
  {
   "cell_type": "markdown",
   "metadata": {},
   "source": [
    "# Slicing DataFrame\n",
    "- Selection by label: `.loc`\n",
    "- Selection by position: `.iloc`"
   ]
  },
  {
   "cell_type": "code",
   "execution_count": 126,
   "metadata": {},
   "outputs": [
    {
     "data": {
      "text/html": [
       "<div>\n",
       "<style scoped>\n",
       "    .dataframe tbody tr th:only-of-type {\n",
       "        vertical-align: middle;\n",
       "    }\n",
       "\n",
       "    .dataframe tbody tr th {\n",
       "        vertical-align: top;\n",
       "    }\n",
       "\n",
       "    .dataframe thead th {\n",
       "        text-align: right;\n",
       "    }\n",
       "</style>\n",
       "<table border=\"1\" class=\"dataframe\">\n",
       "  <thead>\n",
       "    <tr style=\"text-align: right;\">\n",
       "      <th></th>\n",
       "      <th>Date</th>\n",
       "      <th>Open</th>\n",
       "      <th>High</th>\n",
       "      <th>Low</th>\n",
       "      <th>Close</th>\n",
       "      <th>Adj Close</th>\n",
       "      <th>Volume</th>\n",
       "    </tr>\n",
       "  </thead>\n",
       "  <tbody>\n",
       "    <tr>\n",
       "      <th>1</th>\n",
       "      <td>2015-01-02</td>\n",
       "      <td>20.129999</td>\n",
       "      <td>20.280001</td>\n",
       "      <td>19.809999</td>\n",
       "      <td>20.129999</td>\n",
       "      <td>19.536913</td>\n",
       "      <td>2842000</td>\n",
       "    </tr>\n",
       "  </tbody>\n",
       "</table>\n",
       "</div>"
      ],
      "text/plain": [
       "         Date       Open       High        Low      Close  Adj Close   Volume\n",
       "1  2015-01-02  20.129999  20.280001  19.809999  20.129999  19.536913  2842000"
      ]
     },
     "execution_count": 126,
     "metadata": {},
     "output_type": "execute_result"
    }
   ],
   "source": [
    "# For reference, here is the information on the first day of 2015\n",
    "fb.loc[(fb.Date == '2015-01-02')]"
   ]
  },
  {
   "cell_type": "code",
   "execution_count": 116,
   "metadata": {},
   "outputs": [
    {
     "data": {
      "text/plain": [
       "1    20.129999\n",
       "Name: Close, dtype: float64"
      ]
     },
     "execution_count": 116,
     "metadata": {},
     "output_type": "execute_result"
    }
   ],
   "source": [
    "# Close price on the first day of 2015, using .loc\n",
    "fb.loc[(fb.Date == '2015-01-02')]['Close']"
   ]
  },
  {
   "cell_type": "code",
   "execution_count": 125,
   "metadata": {},
   "outputs": [
    {
     "data": {
      "text/plain": [
       "20.129999"
      ]
     },
     "execution_count": 125,
     "metadata": {},
     "output_type": "execute_result"
    }
   ],
   "source": [
    "# Close price on the first day of 2015, using .iloc\n",
    "fb.iloc[1, 4]"
   ]
  },
  {
   "cell_type": "code",
   "execution_count": 131,
   "metadata": {},
   "outputs": [
    {
     "data": {
      "text/plain": [
       "1      20.129999\n",
       "2      19.790001\n",
       "3      19.190001\n",
       "4      19.139999\n",
       "5      19.860001\n",
       "         ...    \n",
       "248    33.169998\n",
       "249    33.139999\n",
       "250    33.680000\n",
       "251    33.389999\n",
       "252    32.959999\n",
       "Name: Close, Length: 252, dtype: float64"
      ]
     },
     "execution_count": 131,
     "metadata": {},
     "output_type": "execute_result"
    }
   ],
   "source": [
    "# Close prices of 2015\n",
    "fb.loc[(fb['Date'] >= '2015-01-01') & (fb['Date'] <= '2015-12-31')]['Close']"
   ]
  },
  {
   "cell_type": "code",
   "execution_count": 132,
   "metadata": {},
   "outputs": [
    {
     "data": {
      "text/html": [
       "<div>\n",
       "<style scoped>\n",
       "    .dataframe tbody tr th:only-of-type {\n",
       "        vertical-align: middle;\n",
       "    }\n",
       "\n",
       "    .dataframe tbody tr th {\n",
       "        vertical-align: top;\n",
       "    }\n",
       "\n",
       "    .dataframe thead th {\n",
       "        text-align: right;\n",
       "    }\n",
       "</style>\n",
       "<table border=\"1\" class=\"dataframe\">\n",
       "  <thead>\n",
       "    <tr style=\"text-align: right;\">\n",
       "      <th></th>\n",
       "      <th>Date</th>\n",
       "      <th>Open</th>\n",
       "      <th>High</th>\n",
       "      <th>Low</th>\n",
       "      <th>Close</th>\n",
       "      <th>Adj Close</th>\n",
       "      <th>Volume</th>\n",
       "    </tr>\n",
       "  </thead>\n",
       "  <tbody>\n",
       "    <tr>\n",
       "      <th>1</th>\n",
       "      <td>2015-01-02</td>\n",
       "      <td>20.129999</td>\n",
       "      <td>20.280001</td>\n",
       "      <td>19.809999</td>\n",
       "      <td>20.129999</td>\n",
       "      <td>19.536913</td>\n",
       "      <td>2842000</td>\n",
       "    </tr>\n",
       "    <tr>\n",
       "      <th>2</th>\n",
       "      <td>2015-01-05</td>\n",
       "      <td>20.129999</td>\n",
       "      <td>20.190001</td>\n",
       "      <td>19.700001</td>\n",
       "      <td>19.790001</td>\n",
       "      <td>19.206934</td>\n",
       "      <td>4948800</td>\n",
       "    </tr>\n",
       "    <tr>\n",
       "      <th>3</th>\n",
       "      <td>2015-01-06</td>\n",
       "      <td>19.820000</td>\n",
       "      <td>19.840000</td>\n",
       "      <td>19.170000</td>\n",
       "      <td>19.190001</td>\n",
       "      <td>18.624611</td>\n",
       "      <td>4944100</td>\n",
       "    </tr>\n",
       "    <tr>\n",
       "      <th>4</th>\n",
       "      <td>2015-01-07</td>\n",
       "      <td>19.330000</td>\n",
       "      <td>19.500000</td>\n",
       "      <td>19.080000</td>\n",
       "      <td>19.139999</td>\n",
       "      <td>18.576082</td>\n",
       "      <td>8045200</td>\n",
       "    </tr>\n",
       "    <tr>\n",
       "      <th>5</th>\n",
       "      <td>2015-01-08</td>\n",
       "      <td>19.360001</td>\n",
       "      <td>19.980000</td>\n",
       "      <td>19.350000</td>\n",
       "      <td>19.860001</td>\n",
       "      <td>19.274870</td>\n",
       "      <td>7094500</td>\n",
       "    </tr>\n",
       "    <tr>\n",
       "      <th>...</th>\n",
       "      <td>...</td>\n",
       "      <td>...</td>\n",
       "      <td>...</td>\n",
       "      <td>...</td>\n",
       "      <td>...</td>\n",
       "      <td>...</td>\n",
       "      <td>...</td>\n",
       "    </tr>\n",
       "    <tr>\n",
       "      <th>248</th>\n",
       "      <td>2015-12-24</td>\n",
       "      <td>32.959999</td>\n",
       "      <td>33.250000</td>\n",
       "      <td>32.910000</td>\n",
       "      <td>33.169998</td>\n",
       "      <td>32.726662</td>\n",
       "      <td>1311200</td>\n",
       "    </tr>\n",
       "    <tr>\n",
       "      <th>249</th>\n",
       "      <td>2015-12-28</td>\n",
       "      <td>32.820000</td>\n",
       "      <td>33.139999</td>\n",
       "      <td>32.360001</td>\n",
       "      <td>33.139999</td>\n",
       "      <td>32.697067</td>\n",
       "      <td>3550600</td>\n",
       "    </tr>\n",
       "    <tr>\n",
       "      <th>250</th>\n",
       "      <td>2015-12-29</td>\n",
       "      <td>33.160000</td>\n",
       "      <td>33.779999</td>\n",
       "      <td>33.070000</td>\n",
       "      <td>33.680000</td>\n",
       "      <td>33.229843</td>\n",
       "      <td>5091500</td>\n",
       "    </tr>\n",
       "    <tr>\n",
       "      <th>251</th>\n",
       "      <td>2015-12-30</td>\n",
       "      <td>33.650002</td>\n",
       "      <td>33.939999</td>\n",
       "      <td>33.380001</td>\n",
       "      <td>33.389999</td>\n",
       "      <td>32.943722</td>\n",
       "      <td>4508600</td>\n",
       "    </tr>\n",
       "    <tr>\n",
       "      <th>252</th>\n",
       "      <td>2015-12-31</td>\n",
       "      <td>33.340000</td>\n",
       "      <td>33.490002</td>\n",
       "      <td>32.959999</td>\n",
       "      <td>32.959999</td>\n",
       "      <td>32.519466</td>\n",
       "      <td>3713200</td>\n",
       "    </tr>\n",
       "  </tbody>\n",
       "</table>\n",
       "<p>252 rows × 7 columns</p>\n",
       "</div>"
      ],
      "text/plain": [
       "           Date       Open       High        Low      Close  Adj Close  \\\n",
       "1    2015-01-02  20.129999  20.280001  19.809999  20.129999  19.536913   \n",
       "2    2015-01-05  20.129999  20.190001  19.700001  19.790001  19.206934   \n",
       "3    2015-01-06  19.820000  19.840000  19.170000  19.190001  18.624611   \n",
       "4    2015-01-07  19.330000  19.500000  19.080000  19.139999  18.576082   \n",
       "5    2015-01-08  19.360001  19.980000  19.350000  19.860001  19.274870   \n",
       "..          ...        ...        ...        ...        ...        ...   \n",
       "248  2015-12-24  32.959999  33.250000  32.910000  33.169998  32.726662   \n",
       "249  2015-12-28  32.820000  33.139999  32.360001  33.139999  32.697067   \n",
       "250  2015-12-29  33.160000  33.779999  33.070000  33.680000  33.229843   \n",
       "251  2015-12-30  33.650002  33.939999  33.380001  33.389999  32.943722   \n",
       "252  2015-12-31  33.340000  33.490002  32.959999  32.959999  32.519466   \n",
       "\n",
       "      Volume  \n",
       "1    2842000  \n",
       "2    4948800  \n",
       "3    4944100  \n",
       "4    8045200  \n",
       "5    7094500  \n",
       "..       ...  \n",
       "248  1311200  \n",
       "249  3550600  \n",
       "250  5091500  \n",
       "251  4508600  \n",
       "252  3713200  \n",
       "\n",
       "[252 rows x 7 columns]"
      ]
     },
     "execution_count": 132,
     "metadata": {},
     "output_type": "execute_result"
    }
   ],
   "source": [
    "# Every information about 2015 \n",
    "fb.loc[(fb['Date'] >= '2015-01-01') & (fb['Date'] <= '2015-12-31')]"
   ]
  },
  {
   "cell_type": "code",
   "execution_count": 133,
   "metadata": {},
   "outputs": [
    {
     "data": {
      "text/plain": [
       "<Axes: >"
      ]
     },
     "execution_count": 133,
     "metadata": {},
     "output_type": "execute_result"
    },
    {
     "data": {
      "image/png": "[encoded data removed]",
      "text/plain": [
       "<Figure size 640x480 with 1 Axes>"
      ]
     },
     "metadata": {},
     "output_type": "display_data"
    }
   ],
   "source": [
    "# We can use the .plot() function built into Pandas\n",
    "fb.loc[(fb['Date'] >= '2015-01-01') & (fb['Date'] <= '2015-12-31')]['Close'].plot() # 2015\n",
    "fb.loc[(fb['Date'] >= '2016-01-01') & (fb['Date'] <= '2016-12-31')]['Close'].plot() # 2016\n",
    "fb.loc[(fb['Date'] >= '2017-01-01') & (fb['Date'] <= '2017-12-31')]['Close'].plot() # 2017\n",
    "fb.loc[(fb['Date'] >= '2018-01-01') & (fb['Date'] <= '2018-12-31')]['Close'].plot() # 2018"
   ]
  },
  {
   "cell_type": "markdown",
   "metadata": {},
   "source": [
    "# Creating new columns"
   ]
  },
  {
   "cell_type": "code",
   "execution_count": 134,
   "metadata": {},
   "outputs": [
    {
     "data": {
      "text/plain": [
       "0       20.049999\n",
       "1       20.129999\n",
       "2       19.790001\n",
       "3       19.190001\n",
       "4       19.139999\n",
       "          ...    \n",
       "775    242.720001\n",
       "776    245.800003\n",
       "777    240.500000\n",
       "778    233.520004\n",
       "779    213.699997\n",
       "Name: Close, Length: 780, dtype: float64"
      ]
     },
     "execution_count": 134,
     "metadata": {},
     "output_type": "execute_result"
    }
   ],
   "source": [
    "# Get the entire 'Close' column\n",
    "fb['Close']"
   ]
  },
  {
   "cell_type": "code",
   "execution_count": 136,
   "metadata": {},
   "outputs": [
    {
     "data": {
      "text/html": [
       "<div>\n",
       "<style scoped>\n",
       "    .dataframe tbody tr th:only-of-type {\n",
       "        vertical-align: middle;\n",
       "    }\n",
       "\n",
       "    .dataframe tbody tr th {\n",
       "        vertical-align: top;\n",
       "    }\n",
       "\n",
       "    .dataframe thead th {\n",
       "        text-align: right;\n",
       "    }\n",
       "</style>\n",
       "<table border=\"1\" class=\"dataframe\">\n",
       "  <thead>\n",
       "    <tr style=\"text-align: right;\">\n",
       "      <th></th>\n",
       "      <th>Close</th>\n",
       "      <th>Open</th>\n",
       "    </tr>\n",
       "  </thead>\n",
       "  <tbody>\n",
       "    <tr>\n",
       "      <th>0</th>\n",
       "      <td>20.049999</td>\n",
       "      <td>20.400000</td>\n",
       "    </tr>\n",
       "    <tr>\n",
       "      <th>1</th>\n",
       "      <td>20.129999</td>\n",
       "      <td>20.129999</td>\n",
       "    </tr>\n",
       "    <tr>\n",
       "      <th>2</th>\n",
       "      <td>19.790001</td>\n",
       "      <td>20.129999</td>\n",
       "    </tr>\n",
       "    <tr>\n",
       "      <th>3</th>\n",
       "      <td>19.190001</td>\n",
       "      <td>19.820000</td>\n",
       "    </tr>\n",
       "    <tr>\n",
       "      <th>4</th>\n",
       "      <td>19.139999</td>\n",
       "      <td>19.330000</td>\n",
       "    </tr>\n",
       "    <tr>\n",
       "      <th>...</th>\n",
       "      <td>...</td>\n",
       "      <td>...</td>\n",
       "    </tr>\n",
       "    <tr>\n",
       "      <th>775</th>\n",
       "      <td>242.720001</td>\n",
       "      <td>241.110001</td>\n",
       "    </tr>\n",
       "    <tr>\n",
       "      <th>776</th>\n",
       "      <td>245.800003</td>\n",
       "      <td>245.770004</td>\n",
       "    </tr>\n",
       "    <tr>\n",
       "      <th>777</th>\n",
       "      <td>240.500000</td>\n",
       "      <td>238.520004</td>\n",
       "    </tr>\n",
       "    <tr>\n",
       "      <th>778</th>\n",
       "      <td>233.520004</td>\n",
       "      <td>237.000000</td>\n",
       "    </tr>\n",
       "    <tr>\n",
       "      <th>779</th>\n",
       "      <td>213.699997</td>\n",
       "      <td>227.000000</td>\n",
       "    </tr>\n",
       "  </tbody>\n",
       "</table>\n",
       "<p>780 rows × 2 columns</p>\n",
       "</div>"
      ],
      "text/plain": [
       "          Close        Open\n",
       "0     20.049999   20.400000\n",
       "1     20.129999   20.129999\n",
       "2     19.790001   20.129999\n",
       "3     19.190001   19.820000\n",
       "4     19.139999   19.330000\n",
       "..          ...         ...\n",
       "775  242.720001  241.110001\n",
       "776  245.800003  245.770004\n",
       "777  240.500000  238.520004\n",
       "778  233.520004  237.000000\n",
       "779  213.699997  227.000000\n",
       "\n",
       "[780 rows x 2 columns]"
      ]
     },
     "execution_count": 136,
     "metadata": {},
     "output_type": "execute_result"
    }
   ],
   "source": [
    "# Get both the entire 'Close' and 'Open columns\n",
    "fb[['Close', 'Open']]"
   ]
  },
  {
   "cell_type": "markdown",
   "metadata": {},
   "source": [
    "## Creating a new column (the next day's Close price)"
   ]
  },
  {
   "cell_type": "code",
   "execution_count": 138,
   "metadata": {},
   "outputs": [
    {
     "data": {
      "text/html": [
       "<div>\n",
       "<style scoped>\n",
       "    .dataframe tbody tr th:only-of-type {\n",
       "        vertical-align: middle;\n",
       "    }\n",
       "\n",
       "    .dataframe tbody tr th {\n",
       "        vertical-align: top;\n",
       "    }\n",
       "\n",
       "    .dataframe thead th {\n",
       "        text-align: right;\n",
       "    }\n",
       "</style>\n",
       "<table border=\"1\" class=\"dataframe\">\n",
       "  <thead>\n",
       "    <tr style=\"text-align: right;\">\n",
       "      <th></th>\n",
       "      <th>Close</th>\n",
       "      <th>Price1</th>\n",
       "    </tr>\n",
       "  </thead>\n",
       "  <tbody>\n",
       "    <tr>\n",
       "      <th>0</th>\n",
       "      <td>20.049999</td>\n",
       "      <td>20.129999</td>\n",
       "    </tr>\n",
       "    <tr>\n",
       "      <th>1</th>\n",
       "      <td>20.129999</td>\n",
       "      <td>19.790001</td>\n",
       "    </tr>\n",
       "    <tr>\n",
       "      <th>2</th>\n",
       "      <td>19.790001</td>\n",
       "      <td>19.190001</td>\n",
       "    </tr>\n",
       "    <tr>\n",
       "      <th>3</th>\n",
       "      <td>19.190001</td>\n",
       "      <td>19.139999</td>\n",
       "    </tr>\n",
       "    <tr>\n",
       "      <th>4</th>\n",
       "      <td>19.139999</td>\n",
       "      <td>19.860001</td>\n",
       "    </tr>\n",
       "    <tr>\n",
       "      <th>...</th>\n",
       "      <td>...</td>\n",
       "      <td>...</td>\n",
       "    </tr>\n",
       "    <tr>\n",
       "      <th>775</th>\n",
       "      <td>242.720001</td>\n",
       "      <td>245.800003</td>\n",
       "    </tr>\n",
       "    <tr>\n",
       "      <th>776</th>\n",
       "      <td>245.800003</td>\n",
       "      <td>240.500000</td>\n",
       "    </tr>\n",
       "    <tr>\n",
       "      <th>777</th>\n",
       "      <td>240.500000</td>\n",
       "      <td>233.520004</td>\n",
       "    </tr>\n",
       "    <tr>\n",
       "      <th>778</th>\n",
       "      <td>233.520004</td>\n",
       "      <td>213.699997</td>\n",
       "    </tr>\n",
       "    <tr>\n",
       "      <th>779</th>\n",
       "      <td>213.699997</td>\n",
       "      <td>NaN</td>\n",
       "    </tr>\n",
       "  </tbody>\n",
       "</table>\n",
       "<p>780 rows × 2 columns</p>\n",
       "</div>"
      ],
      "text/plain": [
       "          Close      Price1\n",
       "0     20.049999   20.129999\n",
       "1     20.129999   19.790001\n",
       "2     19.790001   19.190001\n",
       "3     19.190001   19.139999\n",
       "4     19.139999   19.860001\n",
       "..          ...         ...\n",
       "775  242.720001  245.800003\n",
       "776  245.800003  240.500000\n",
       "777  240.500000  233.520004\n",
       "778  233.520004  213.699997\n",
       "779  213.699997         NaN\n",
       "\n",
       "[780 rows x 2 columns]"
      ]
     },
     "execution_count": 138,
     "metadata": {},
     "output_type": "execute_result"
    }
   ],
   "source": [
    "# Add a new column 'Price1' where it's the next day's closing prices\n",
    "fb['Price1'] = fb['Close'].shift(-1)\n",
    "\n",
    "fb[['Close', 'Price1']]"
   ]
  },
  {
   "cell_type": "markdown",
   "metadata": {},
   "source": [
    "## Creating a new column (price difference)\n",
    "PriceDiff = Close price of tomorrow - Close price of today"
   ]
  },
  {
   "cell_type": "code",
   "execution_count": 149,
   "metadata": {},
   "outputs": [
    {
     "data": {
      "text/html": [
       "<div>\n",
       "<style scoped>\n",
       "    .dataframe tbody tr th:only-of-type {\n",
       "        vertical-align: middle;\n",
       "    }\n",
       "\n",
       "    .dataframe tbody tr th {\n",
       "        vertical-align: top;\n",
       "    }\n",
       "\n",
       "    .dataframe thead th {\n",
       "        text-align: right;\n",
       "    }\n",
       "</style>\n",
       "<table border=\"1\" class=\"dataframe\">\n",
       "  <thead>\n",
       "    <tr style=\"text-align: right;\">\n",
       "      <th></th>\n",
       "      <th>Price1</th>\n",
       "      <th>Close</th>\n",
       "      <th>PriceDiff</th>\n",
       "    </tr>\n",
       "  </thead>\n",
       "  <tbody>\n",
       "    <tr>\n",
       "      <th>0</th>\n",
       "      <td>20.129999</td>\n",
       "      <td>20.049999</td>\n",
       "      <td>0.080000</td>\n",
       "    </tr>\n",
       "    <tr>\n",
       "      <th>1</th>\n",
       "      <td>19.790001</td>\n",
       "      <td>20.129999</td>\n",
       "      <td>-0.339998</td>\n",
       "    </tr>\n",
       "    <tr>\n",
       "      <th>2</th>\n",
       "      <td>19.190001</td>\n",
       "      <td>19.790001</td>\n",
       "      <td>-0.600000</td>\n",
       "    </tr>\n",
       "    <tr>\n",
       "      <th>3</th>\n",
       "      <td>19.139999</td>\n",
       "      <td>19.190001</td>\n",
       "      <td>-0.050002</td>\n",
       "    </tr>\n",
       "    <tr>\n",
       "      <th>4</th>\n",
       "      <td>19.860001</td>\n",
       "      <td>19.139999</td>\n",
       "      <td>0.720002</td>\n",
       "    </tr>\n",
       "    <tr>\n",
       "      <th>...</th>\n",
       "      <td>...</td>\n",
       "      <td>...</td>\n",
       "      <td>...</td>\n",
       "    </tr>\n",
       "    <tr>\n",
       "      <th>775</th>\n",
       "      <td>245.800003</td>\n",
       "      <td>242.720001</td>\n",
       "      <td>3.080002</td>\n",
       "    </tr>\n",
       "    <tr>\n",
       "      <th>776</th>\n",
       "      <td>240.500000</td>\n",
       "      <td>245.800003</td>\n",
       "      <td>-5.300003</td>\n",
       "    </tr>\n",
       "    <tr>\n",
       "      <th>777</th>\n",
       "      <td>233.520004</td>\n",
       "      <td>240.500000</td>\n",
       "      <td>-6.979996</td>\n",
       "    </tr>\n",
       "    <tr>\n",
       "      <th>778</th>\n",
       "      <td>213.699997</td>\n",
       "      <td>233.520004</td>\n",
       "      <td>-19.820007</td>\n",
       "    </tr>\n",
       "    <tr>\n",
       "      <th>779</th>\n",
       "      <td>NaN</td>\n",
       "      <td>213.699997</td>\n",
       "      <td>NaN</td>\n",
       "    </tr>\n",
       "  </tbody>\n",
       "</table>\n",
       "<p>780 rows × 3 columns</p>\n",
       "</div>"
      ],
      "text/plain": [
       "         Price1       Close  PriceDiff\n",
       "0     20.129999   20.049999   0.080000\n",
       "1     19.790001   20.129999  -0.339998\n",
       "2     19.190001   19.790001  -0.600000\n",
       "3     19.139999   19.190001  -0.050002\n",
       "4     19.860001   19.139999   0.720002\n",
       "..          ...         ...        ...\n",
       "775  245.800003  242.720001   3.080002\n",
       "776  240.500000  245.800003  -5.300003\n",
       "777  233.520004  240.500000  -6.979996\n",
       "778  213.699997  233.520004 -19.820007\n",
       "779         NaN  213.699997        NaN\n",
       "\n",
       "[780 rows x 3 columns]"
      ]
     },
     "execution_count": 149,
     "metadata": {},
     "output_type": "execute_result"
    }
   ],
   "source": [
    "fb['PriceDiff'] = fb['Price1'] - fb['Close']\n",
    "\n",
    "fb[['Price1', 'Close', 'PriceDiff']]"
   ]
  },
  {
   "cell_type": "markdown",
   "metadata": {},
   "source": [
    "## Creating a new column (daily returns)\n",
    "Daily Return = Price Difference / Close price of today"
   ]
  },
  {
   "cell_type": "code",
   "execution_count": 150,
   "metadata": {},
   "outputs": [
    {
     "data": {
      "text/html": [
       "<div>\n",
       "<style scoped>\n",
       "    .dataframe tbody tr th:only-of-type {\n",
       "        vertical-align: middle;\n",
       "    }\n",
       "\n",
       "    .dataframe tbody tr th {\n",
       "        vertical-align: top;\n",
       "    }\n",
       "\n",
       "    .dataframe thead th {\n",
       "        text-align: right;\n",
       "    }\n",
       "</style>\n",
       "<table border=\"1\" class=\"dataframe\">\n",
       "  <thead>\n",
       "    <tr style=\"text-align: right;\">\n",
       "      <th></th>\n",
       "      <th>PriceDiff</th>\n",
       "      <th>Close</th>\n",
       "      <th>Return</th>\n",
       "    </tr>\n",
       "  </thead>\n",
       "  <tbody>\n",
       "    <tr>\n",
       "      <th>0</th>\n",
       "      <td>0.080000</td>\n",
       "      <td>20.049999</td>\n",
       "      <td>0.003990</td>\n",
       "    </tr>\n",
       "    <tr>\n",
       "      <th>1</th>\n",
       "      <td>-0.339998</td>\n",
       "      <td>20.129999</td>\n",
       "      <td>-0.016890</td>\n",
       "    </tr>\n",
       "    <tr>\n",
       "      <th>2</th>\n",
       "      <td>-0.600000</td>\n",
       "      <td>19.790001</td>\n",
       "      <td>-0.030318</td>\n",
       "    </tr>\n",
       "    <tr>\n",
       "      <th>3</th>\n",
       "      <td>-0.050002</td>\n",
       "      <td>19.190001</td>\n",
       "      <td>-0.002606</td>\n",
       "    </tr>\n",
       "    <tr>\n",
       "      <th>4</th>\n",
       "      <td>0.720002</td>\n",
       "      <td>19.139999</td>\n",
       "      <td>0.037618</td>\n",
       "    </tr>\n",
       "    <tr>\n",
       "      <th>...</th>\n",
       "      <td>...</td>\n",
       "      <td>...</td>\n",
       "      <td>...</td>\n",
       "    </tr>\n",
       "    <tr>\n",
       "      <th>775</th>\n",
       "      <td>3.080002</td>\n",
       "      <td>242.720001</td>\n",
       "      <td>0.012690</td>\n",
       "    </tr>\n",
       "    <tr>\n",
       "      <th>776</th>\n",
       "      <td>-5.300003</td>\n",
       "      <td>245.800003</td>\n",
       "      <td>-0.021562</td>\n",
       "    </tr>\n",
       "    <tr>\n",
       "      <th>777</th>\n",
       "      <td>-6.979996</td>\n",
       "      <td>240.500000</td>\n",
       "      <td>-0.029023</td>\n",
       "    </tr>\n",
       "    <tr>\n",
       "      <th>778</th>\n",
       "      <td>-19.820007</td>\n",
       "      <td>233.520004</td>\n",
       "      <td>-0.084875</td>\n",
       "    </tr>\n",
       "    <tr>\n",
       "      <th>779</th>\n",
       "      <td>NaN</td>\n",
       "      <td>213.699997</td>\n",
       "      <td>NaN</td>\n",
       "    </tr>\n",
       "  </tbody>\n",
       "</table>\n",
       "<p>780 rows × 3 columns</p>\n",
       "</div>"
      ],
      "text/plain": [
       "     PriceDiff       Close    Return\n",
       "0     0.080000   20.049999  0.003990\n",
       "1    -0.339998   20.129999 -0.016890\n",
       "2    -0.600000   19.790001 -0.030318\n",
       "3    -0.050002   19.190001 -0.002606\n",
       "4     0.720002   19.139999  0.037618\n",
       "..         ...         ...       ...\n",
       "775   3.080002  242.720001  0.012690\n",
       "776  -5.300003  245.800003 -0.021562\n",
       "777  -6.979996  240.500000 -0.029023\n",
       "778 -19.820007  233.520004 -0.084875\n",
       "779        NaN  213.699997       NaN\n",
       "\n",
       "[780 rows x 3 columns]"
      ]
     },
     "execution_count": 150,
     "metadata": {},
     "output_type": "execute_result"
    }
   ],
   "source": [
    "fb['Return'] = fb['PriceDiff'] / fb['Close']\n",
    "\n",
    "fb[['PriceDiff', 'Close', 'Return']]"
   ]
  },
  {
   "cell_type": "markdown",
   "metadata": {},
   "source": [
    "## Creating a new column (direction)\n",
    "PriceDiff $>$ 0 &rarr; Up, denoted 1\n",
    "\n",
    "PriceDiff $\\leq$ 0 &rarr;  Down, denoted -1\n",
    "\n",
    "We can accomplish this for every row by using list comprehension"
   ]
  },
  {
   "cell_type": "code",
   "execution_count": 152,
   "metadata": {},
   "outputs": [
    {
     "data": {
      "text/html": [
       "<div>\n",
       "<style scoped>\n",
       "    .dataframe tbody tr th:only-of-type {\n",
       "        vertical-align: middle;\n",
       "    }\n",
       "\n",
       "    .dataframe tbody tr th {\n",
       "        vertical-align: top;\n",
       "    }\n",
       "\n",
       "    .dataframe thead th {\n",
       "        text-align: right;\n",
       "    }\n",
       "</style>\n",
       "<table border=\"1\" class=\"dataframe\">\n",
       "  <thead>\n",
       "    <tr style=\"text-align: right;\">\n",
       "      <th></th>\n",
       "      <th>PriceDiff</th>\n",
       "      <th>Direction</th>\n",
       "    </tr>\n",
       "  </thead>\n",
       "  <tbody>\n",
       "    <tr>\n",
       "      <th>0</th>\n",
       "      <td>0.080000</td>\n",
       "      <td>1</td>\n",
       "    </tr>\n",
       "    <tr>\n",
       "      <th>1</th>\n",
       "      <td>-0.339998</td>\n",
       "      <td>-1</td>\n",
       "    </tr>\n",
       "    <tr>\n",
       "      <th>2</th>\n",
       "      <td>-0.600000</td>\n",
       "      <td>-1</td>\n",
       "    </tr>\n",
       "    <tr>\n",
       "      <th>3</th>\n",
       "      <td>-0.050002</td>\n",
       "      <td>-1</td>\n",
       "    </tr>\n",
       "    <tr>\n",
       "      <th>4</th>\n",
       "      <td>0.720002</td>\n",
       "      <td>1</td>\n",
       "    </tr>\n",
       "    <tr>\n",
       "      <th>...</th>\n",
       "      <td>...</td>\n",
       "      <td>...</td>\n",
       "    </tr>\n",
       "    <tr>\n",
       "      <th>775</th>\n",
       "      <td>3.080002</td>\n",
       "      <td>1</td>\n",
       "    </tr>\n",
       "    <tr>\n",
       "      <th>776</th>\n",
       "      <td>-5.300003</td>\n",
       "      <td>-1</td>\n",
       "    </tr>\n",
       "    <tr>\n",
       "      <th>777</th>\n",
       "      <td>-6.979996</td>\n",
       "      <td>-1</td>\n",
       "    </tr>\n",
       "    <tr>\n",
       "      <th>778</th>\n",
       "      <td>-19.820007</td>\n",
       "      <td>-1</td>\n",
       "    </tr>\n",
       "    <tr>\n",
       "      <th>779</th>\n",
       "      <td>NaN</td>\n",
       "      <td>-1</td>\n",
       "    </tr>\n",
       "  </tbody>\n",
       "</table>\n",
       "<p>780 rows × 2 columns</p>\n",
       "</div>"
      ],
      "text/plain": [
       "     PriceDiff  Direction\n",
       "0     0.080000          1\n",
       "1    -0.339998         -1\n",
       "2    -0.600000         -1\n",
       "3    -0.050002         -1\n",
       "4     0.720002          1\n",
       "..         ...        ...\n",
       "775   3.080002          1\n",
       "776  -5.300003         -1\n",
       "777  -6.979996         -1\n",
       "778 -19.820007         -1\n",
       "779        NaN         -1\n",
       "\n",
       "[780 rows x 2 columns]"
      ]
     },
     "execution_count": 152,
     "metadata": {},
     "output_type": "execute_result"
    }
   ],
   "source": [
    "fb['Direction'] = [1 if fb.loc[ei, 'PriceDiff'] > 0 else -1 for ei in fb.index]\n",
    "\n",
    "fb[['PriceDiff', 'Direction']]"
   ]
  },
  {
   "cell_type": "markdown",
   "metadata": {},
   "source": [
    "## Creating a new column (moving average)\n",
    "The average price over a defined number of days\n",
    "\n",
    "This is useful because since random fluctuations are very common, taking the average price can smooth out noise"
   ]
  },
  {
   "cell_type": "code",
   "execution_count": 153,
   "metadata": {},
   "outputs": [
    {
     "data": {
      "text/plain": [
       "0             NaN\n",
       "1             NaN\n",
       "2       19.990000\n",
       "3       19.703334\n",
       "4       19.373334\n",
       "          ...    \n",
       "775    244.300003\n",
       "776    245.123337\n",
       "777    243.006668\n",
       "778    239.940002\n",
       "779    229.240000\n",
       "Name: Average, Length: 780, dtype: float64"
      ]
     },
     "execution_count": 153,
     "metadata": {},
     "output_type": "execute_result"
    }
   ],
   "source": [
    "fb['Average'] = (fb['Close'] + fb['Close'].shift(1) + fb['Close'].shift(2))/3\n",
    "\n",
    "fb['Average']"
   ]
  },
  {
   "cell_type": "markdown",
   "metadata": {},
   "source": [
    "A more elegant approach is to using .rolling()\n",
    "\n",
    "The rolling() method in Pandas is used to perform rolling window calculations on sequential data. A rolling window is a fixed-size interval or subset of data that moves sequentially through a larger dataset."
   ]
  },
  {
   "cell_type": "code",
   "execution_count": 166,
   "metadata": {},
   "outputs": [
    {
     "data": {
      "text/html": [
       "<div>\n",
       "<style scoped>\n",
       "    .dataframe tbody tr th:only-of-type {\n",
       "        vertical-align: middle;\n",
       "    }\n",
       "\n",
       "    .dataframe tbody tr th {\n",
       "        vertical-align: top;\n",
       "    }\n",
       "\n",
       "    .dataframe thead th {\n",
       "        text-align: right;\n",
       "    }\n",
       "</style>\n",
       "<table border=\"1\" class=\"dataframe\">\n",
       "  <thead>\n",
       "    <tr style=\"text-align: right;\">\n",
       "      <th></th>\n",
       "      <th>Close</th>\n",
       "      <th>MA40</th>\n",
       "      <th>MA200</th>\n",
       "    </tr>\n",
       "  </thead>\n",
       "  <tbody>\n",
       "    <tr>\n",
       "      <th>0</th>\n",
       "      <td>20.049999</td>\n",
       "      <td>NaN</td>\n",
       "      <td>NaN</td>\n",
       "    </tr>\n",
       "    <tr>\n",
       "      <th>1</th>\n",
       "      <td>20.129999</td>\n",
       "      <td>NaN</td>\n",
       "      <td>NaN</td>\n",
       "    </tr>\n",
       "    <tr>\n",
       "      <th>2</th>\n",
       "      <td>19.790001</td>\n",
       "      <td>NaN</td>\n",
       "      <td>NaN</td>\n",
       "    </tr>\n",
       "    <tr>\n",
       "      <th>3</th>\n",
       "      <td>19.190001</td>\n",
       "      <td>NaN</td>\n",
       "      <td>NaN</td>\n",
       "    </tr>\n",
       "    <tr>\n",
       "      <th>4</th>\n",
       "      <td>19.139999</td>\n",
       "      <td>NaN</td>\n",
       "      <td>NaN</td>\n",
       "    </tr>\n",
       "    <tr>\n",
       "      <th>...</th>\n",
       "      <td>...</td>\n",
       "      <td>...</td>\n",
       "      <td>...</td>\n",
       "    </tr>\n",
       "    <tr>\n",
       "      <th>775</th>\n",
       "      <td>242.720001</td>\n",
       "      <td>209.863250</td>\n",
       "      <td>173.15295</td>\n",
       "    </tr>\n",
       "    <tr>\n",
       "      <th>776</th>\n",
       "      <td>245.800003</td>\n",
       "      <td>211.066251</td>\n",
       "      <td>173.88580</td>\n",
       "    </tr>\n",
       "    <tr>\n",
       "      <th>777</th>\n",
       "      <td>240.500000</td>\n",
       "      <td>212.412250</td>\n",
       "      <td>174.59185</td>\n",
       "    </tr>\n",
       "    <tr>\n",
       "      <th>778</th>\n",
       "      <td>233.520004</td>\n",
       "      <td>213.556750</td>\n",
       "      <td>175.26105</td>\n",
       "    </tr>\n",
       "    <tr>\n",
       "      <th>779</th>\n",
       "      <td>213.699997</td>\n",
       "      <td>214.167750</td>\n",
       "      <td>175.82325</td>\n",
       "    </tr>\n",
       "  </tbody>\n",
       "</table>\n",
       "<p>780 rows × 3 columns</p>\n",
       "</div>"
      ],
      "text/plain": [
       "          Close        MA40      MA200\n",
       "0     20.049999         NaN        NaN\n",
       "1     20.129999         NaN        NaN\n",
       "2     19.790001         NaN        NaN\n",
       "3     19.190001         NaN        NaN\n",
       "4     19.139999         NaN        NaN\n",
       "..          ...         ...        ...\n",
       "775  242.720001  209.863250  173.15295\n",
       "776  245.800003  211.066251  173.88580\n",
       "777  240.500000  212.412250  174.59185\n",
       "778  233.520004  213.556750  175.26105\n",
       "779  213.699997  214.167750  175.82325\n",
       "\n",
       "[780 rows x 3 columns]"
      ]
     },
     "execution_count": 166,
     "metadata": {},
     "output_type": "execute_result"
    }
   ],
   "source": [
    "fb['MA40'] = fb['Close'].rolling(40).mean()\n",
    "fb['MA200'] = fb['Close'].rolling(200).mean()\n",
    "\n",
    "fb[['Close', 'MA40', 'MA200']]"
   ]
  },
  {
   "cell_type": "markdown",
   "metadata": {},
   "source": [
    "MA40 is the moving average price over 40 days\n",
    "MA200 is the moving average price over 200 days\n",
    "\n",
    "We can plot the moving averages for better analysis"
   ]
  },
  {
   "cell_type": "code",
   "execution_count": 167,
   "metadata": {},
   "outputs": [
    {
     "data": {
      "text/plain": [
       "<Axes: >"
      ]
     },
     "execution_count": 167,
     "metadata": {},
     "output_type": "execute_result"
    },
    {
     "data": {
      "image/png": "[encoded data removed]",
      "text/plain": [
       "<Figure size 640x480 with 1 Axes>"
      ]
     },
     "metadata": {},
     "output_type": "display_data"
    }
   ],
   "source": [
    "fb['Close'].plot(color='blue', legend=True)\n",
    "fb['MA40'].plot(color='yellow', legend=True)\n",
    "fb['MA200'].plot(color='green', legend=True)"
   ]
  },
  {
   "cell_type": "markdown",
   "metadata": {},
   "source": [
    "Moving average smoothed out the original close price. MA40 line is more similar to the Close so we call MA40 the **fast signal** and MA200 the **slow signal**. \n",
    "\n",
    "**Trend-following traders**: if MA40>MA200 believe the stock price will move upwards for a while"
   ]
  },
  {
   "cell_type": "markdown",
   "metadata": {},
   "source": [
    "# Trading Strategy (Moving Average)"
   ]
  },
  {
   "cell_type": "code",
   "execution_count": 168,
   "metadata": {},
   "outputs": [
    {
     "data": {
      "text/plain": [
       "<Axes: >"
      ]
     },
     "execution_count": 168,
     "metadata": {},
     "output_type": "execute_result"
    },
    {
     "data": {
      "image/png": "[encoded data removed]",
      "text/plain": [
       "<Figure size 640x480 with 1 Axes>"
      ]
     },
     "metadata": {},
     "output_type": "display_data"
    }
   ],
   "source": [
    "ms['MA10']=ms['Close'].rolling(10).mean() # Fast signal\n",
    "ms['MA50']=ms['Close'].rolling(50).mean() # Slow signal\n",
    "\n",
    "# Plot stock price with the 2 moving averages\n",
    "ms['Close'].plot(legend=True)\n",
    "ms['MA10'].plot(legend=True) # Fast signal\n",
    "ms['MA50'].plot(legend=True) # Slow signal"
   ]
  },
  {
   "cell_type": "markdown",
   "metadata": {},
   "source": [
    "If MA10>MA50, the stock price is believed by some traders that it will increase in the next few days. Otherwise, it will decrease.\n",
    "\n",
    "Our strategy is: MA10>MA50→Buy and *hold* one share of stock. Alternatively speaking, we will **long** one share of stock. \n",
    "\n",
    "We will buy and hold one share of stock whenever the green line is below both lines (specifically, the orange line)"
   ]
  },
  {
   "cell_type": "markdown",
   "metadata": {},
   "source": [
    "## Long or not?\n",
    "We'll create a variable (called Shares) to determine whether to long or not."
   ]
  },
  {
   "cell_type": "code",
   "execution_count": 173,
   "metadata": {},
   "outputs": [
    {
     "data": {
      "text/html": [
       "<div>\n",
       "<style scoped>\n",
       "    .dataframe tbody tr th:only-of-type {\n",
       "        vertical-align: middle;\n",
       "    }\n",
       "\n",
       "    .dataframe tbody tr th {\n",
       "        vertical-align: top;\n",
       "    }\n",
       "\n",
       "    .dataframe thead th {\n",
       "        text-align: right;\n",
       "    }\n",
       "</style>\n",
       "<table border=\"1\" class=\"dataframe\">\n",
       "  <thead>\n",
       "    <tr style=\"text-align: right;\">\n",
       "      <th></th>\n",
       "      <th>Date</th>\n",
       "      <th>Open</th>\n",
       "      <th>High</th>\n",
       "      <th>Low</th>\n",
       "      <th>Close</th>\n",
       "      <th>Adj Close</th>\n",
       "      <th>Volume</th>\n",
       "      <th>MA10</th>\n",
       "      <th>MA50</th>\n",
       "      <th>Shares</th>\n",
       "      <th>Close1</th>\n",
       "    </tr>\n",
       "  </thead>\n",
       "  <tbody>\n",
       "    <tr>\n",
       "      <th>500</th>\n",
       "      <td>2016-12-23</td>\n",
       "      <td>63.450001</td>\n",
       "      <td>63.540001</td>\n",
       "      <td>62.799999</td>\n",
       "      <td>63.240002</td>\n",
       "      <td>61.569557</td>\n",
       "      <td>12398000</td>\n",
       "      <td>63.020000</td>\n",
       "      <td>60.4170</td>\n",
       "      <td>1</td>\n",
       "      <td>63.279999</td>\n",
       "    </tr>\n",
       "    <tr>\n",
       "      <th>501</th>\n",
       "      <td>2016-12-27</td>\n",
       "      <td>63.209999</td>\n",
       "      <td>64.070000</td>\n",
       "      <td>63.209999</td>\n",
       "      <td>63.279999</td>\n",
       "      <td>61.608490</td>\n",
       "      <td>11763200</td>\n",
       "      <td>63.131000</td>\n",
       "      <td>60.5342</td>\n",
       "      <td>1</td>\n",
       "      <td>62.990002</td>\n",
       "    </tr>\n",
       "    <tr>\n",
       "      <th>502</th>\n",
       "      <td>2016-12-28</td>\n",
       "      <td>63.400002</td>\n",
       "      <td>63.400002</td>\n",
       "      <td>62.830002</td>\n",
       "      <td>62.990002</td>\n",
       "      <td>61.326157</td>\n",
       "      <td>14653300</td>\n",
       "      <td>63.132000</td>\n",
       "      <td>60.6496</td>\n",
       "      <td>1</td>\n",
       "      <td>62.900002</td>\n",
       "    </tr>\n",
       "    <tr>\n",
       "      <th>503</th>\n",
       "      <td>2016-12-29</td>\n",
       "      <td>62.860001</td>\n",
       "      <td>63.200001</td>\n",
       "      <td>62.730000</td>\n",
       "      <td>62.900002</td>\n",
       "      <td>61.238541</td>\n",
       "      <td>10181600</td>\n",
       "      <td>63.154001</td>\n",
       "      <td>60.7544</td>\n",
       "      <td>1</td>\n",
       "      <td>62.139999</td>\n",
       "    </tr>\n",
       "    <tr>\n",
       "      <th>504</th>\n",
       "      <td>2016-12-30</td>\n",
       "      <td>62.959999</td>\n",
       "      <td>62.990002</td>\n",
       "      <td>62.029999</td>\n",
       "      <td>62.139999</td>\n",
       "      <td>60.498604</td>\n",
       "      <td>25579900</td>\n",
       "      <td>63.110000</td>\n",
       "      <td>60.8466</td>\n",
       "      <td>1</td>\n",
       "      <td>62.580002</td>\n",
       "    </tr>\n",
       "  </tbody>\n",
       "</table>\n",
       "</div>"
      ],
      "text/plain": [
       "           Date       Open       High        Low      Close  Adj Close  \\\n",
       "500  2016-12-23  63.450001  63.540001  62.799999  63.240002  61.569557   \n",
       "501  2016-12-27  63.209999  64.070000  63.209999  63.279999  61.608490   \n",
       "502  2016-12-28  63.400002  63.400002  62.830002  62.990002  61.326157   \n",
       "503  2016-12-29  62.860001  63.200001  62.730000  62.900002  61.238541   \n",
       "504  2016-12-30  62.959999  62.990002  62.029999  62.139999  60.498604   \n",
       "\n",
       "       Volume       MA10     MA50  Shares     Close1  \n",
       "500  12398000  63.020000  60.4170       1  63.279999  \n",
       "501  11763200  63.131000  60.5342       1  62.990002  \n",
       "502  14653300  63.132000  60.6496       1  62.900002  \n",
       "503  10181600  63.154001  60.7544       1  62.139999  \n",
       "504  25579900  63.110000  60.8466       1  62.580002  "
      ]
     },
     "execution_count": 173,
     "metadata": {},
     "output_type": "execute_result"
    }
   ],
   "source": [
    "ms['Shares'] = [1 if ms.loc[ei, 'MA10'] > ms.loc[ei, 'MA50'] else 0 for ei in ms.index] \n",
    "\n",
    "ms.iloc[500:505,:]"
   ]
  },
  {
   "cell_type": "markdown",
   "metadata": {},
   "source": [
    "## Daily profit\n",
    "Next, we'll create a variable for daily profit"
   ]
  },
  {
   "cell_type": "code",
   "execution_count": 174,
   "metadata": {},
   "outputs": [
    {
     "data": {
      "text/html": [
       "<div>\n",
       "<style scoped>\n",
       "    .dataframe tbody tr th:only-of-type {\n",
       "        vertical-align: middle;\n",
       "    }\n",
       "\n",
       "    .dataframe tbody tr th {\n",
       "        vertical-align: top;\n",
       "    }\n",
       "\n",
       "    .dataframe thead th {\n",
       "        text-align: right;\n",
       "    }\n",
       "</style>\n",
       "<table border=\"1\" class=\"dataframe\">\n",
       "  <thead>\n",
       "    <tr style=\"text-align: right;\">\n",
       "      <th></th>\n",
       "      <th>Date</th>\n",
       "      <th>Open</th>\n",
       "      <th>High</th>\n",
       "      <th>Low</th>\n",
       "      <th>Close</th>\n",
       "      <th>Adj Close</th>\n",
       "      <th>Volume</th>\n",
       "      <th>MA10</th>\n",
       "      <th>MA50</th>\n",
       "      <th>Shares</th>\n",
       "      <th>Close1</th>\n",
       "    </tr>\n",
       "  </thead>\n",
       "  <tbody>\n",
       "    <tr>\n",
       "      <th>500</th>\n",
       "      <td>2016-12-23</td>\n",
       "      <td>63.450001</td>\n",
       "      <td>63.540001</td>\n",
       "      <td>62.799999</td>\n",
       "      <td>63.240002</td>\n",
       "      <td>61.569557</td>\n",
       "      <td>12398000</td>\n",
       "      <td>63.020000</td>\n",
       "      <td>60.4170</td>\n",
       "      <td>1</td>\n",
       "      <td>63.279999</td>\n",
       "    </tr>\n",
       "    <tr>\n",
       "      <th>501</th>\n",
       "      <td>2016-12-27</td>\n",
       "      <td>63.209999</td>\n",
       "      <td>64.070000</td>\n",
       "      <td>63.209999</td>\n",
       "      <td>63.279999</td>\n",
       "      <td>61.608490</td>\n",
       "      <td>11763200</td>\n",
       "      <td>63.131000</td>\n",
       "      <td>60.5342</td>\n",
       "      <td>1</td>\n",
       "      <td>62.990002</td>\n",
       "    </tr>\n",
       "    <tr>\n",
       "      <th>502</th>\n",
       "      <td>2016-12-28</td>\n",
       "      <td>63.400002</td>\n",
       "      <td>63.400002</td>\n",
       "      <td>62.830002</td>\n",
       "      <td>62.990002</td>\n",
       "      <td>61.326157</td>\n",
       "      <td>14653300</td>\n",
       "      <td>63.132000</td>\n",
       "      <td>60.6496</td>\n",
       "      <td>1</td>\n",
       "      <td>62.900002</td>\n",
       "    </tr>\n",
       "    <tr>\n",
       "      <th>503</th>\n",
       "      <td>2016-12-29</td>\n",
       "      <td>62.860001</td>\n",
       "      <td>63.200001</td>\n",
       "      <td>62.730000</td>\n",
       "      <td>62.900002</td>\n",
       "      <td>61.238541</td>\n",
       "      <td>10181600</td>\n",
       "      <td>63.154001</td>\n",
       "      <td>60.7544</td>\n",
       "      <td>1</td>\n",
       "      <td>62.139999</td>\n",
       "    </tr>\n",
       "    <tr>\n",
       "      <th>504</th>\n",
       "      <td>2016-12-30</td>\n",
       "      <td>62.959999</td>\n",
       "      <td>62.990002</td>\n",
       "      <td>62.029999</td>\n",
       "      <td>62.139999</td>\n",
       "      <td>60.498604</td>\n",
       "      <td>25579900</td>\n",
       "      <td>63.110000</td>\n",
       "      <td>60.8466</td>\n",
       "      <td>1</td>\n",
       "      <td>62.580002</td>\n",
       "    </tr>\n",
       "  </tbody>\n",
       "</table>\n",
       "</div>"
      ],
      "text/plain": [
       "           Date       Open       High        Low      Close  Adj Close  \\\n",
       "500  2016-12-23  63.450001  63.540001  62.799999  63.240002  61.569557   \n",
       "501  2016-12-27  63.209999  64.070000  63.209999  63.279999  61.608490   \n",
       "502  2016-12-28  63.400002  63.400002  62.830002  62.990002  61.326157   \n",
       "503  2016-12-29  62.860001  63.200001  62.730000  62.900002  61.238541   \n",
       "504  2016-12-30  62.959999  62.990002  62.029999  62.139999  60.498604   \n",
       "\n",
       "       Volume       MA10     MA50  Shares     Close1  \n",
       "500  12398000  63.020000  60.4170       1  63.279999  \n",
       "501  11763200  63.131000  60.5342       1  62.990002  \n",
       "502  14653300  63.132000  60.6496       1  62.900002  \n",
       "503  10181600  63.154001  60.7544       1  62.139999  \n",
       "504  25579900  63.110000  60.8466       1  62.580002  "
      ]
     },
     "execution_count": 174,
     "metadata": {},
     "output_type": "execute_result"
    }
   ],
   "source": [
    "ms['Close1']=ms['Close'].shift(-1)\n",
    "\n",
    "ms.iloc[500:505,:]"
   ]
  },
  {
   "cell_type": "code",
   "execution_count": 175,
   "metadata": {},
   "outputs": [
    {
     "data": {
      "text/plain": [
       "<matplotlib.lines.Line2D at 0x14846fd70>"
      ]
     },
     "execution_count": 175,
     "metadata": {},
     "output_type": "execute_result"
    },
    {
     "data": {
      "image/png": "[encoded data removed]",
      "text/plain": [
       "<Figure size 640x480 with 1 Axes>"
      ]
     },
     "metadata": {},
     "output_type": "display_data"
    }
   ],
   "source": [
    "ms['Profit'] = [ms.loc[ei, 'Close1']-ms.loc[ei, 'Close'] if ms.loc[ei, 'Shares']==1 else 0 for ei in ms.index]\n",
    "ms['Profit'].plot()\n",
    "plt.axhline(y=0, color='red')"
   ]
  },
  {
   "cell_type": "markdown",
   "metadata": {},
   "source": [
    "Positive: profit\n",
    "\n",
    "Negative: loss"
   ]
  },
  {
   "cell_type": "markdown",
   "metadata": {},
   "source": [
    "## Cumulative wealth"
   ]
  },
  {
   "cell_type": "code",
   "execution_count": 177,
   "metadata": {},
   "outputs": [
    {
     "data": {
      "text/html": [
       "<div>\n",
       "<style scoped>\n",
       "    .dataframe tbody tr th:only-of-type {\n",
       "        vertical-align: middle;\n",
       "    }\n",
       "\n",
       "    .dataframe tbody tr th {\n",
       "        vertical-align: top;\n",
       "    }\n",
       "\n",
       "    .dataframe thead th {\n",
       "        text-align: right;\n",
       "    }\n",
       "</style>\n",
       "<table border=\"1\" class=\"dataframe\">\n",
       "  <thead>\n",
       "    <tr style=\"text-align: right;\">\n",
       "      <th></th>\n",
       "      <th>Date</th>\n",
       "      <th>Open</th>\n",
       "      <th>High</th>\n",
       "      <th>Low</th>\n",
       "      <th>Close</th>\n",
       "      <th>Adj Close</th>\n",
       "      <th>Volume</th>\n",
       "      <th>MA10</th>\n",
       "      <th>MA50</th>\n",
       "      <th>Shares</th>\n",
       "      <th>Close1</th>\n",
       "      <th>Profit</th>\n",
       "      <th>wealth</th>\n",
       "    </tr>\n",
       "  </thead>\n",
       "  <tbody>\n",
       "    <tr>\n",
       "      <th>775</th>\n",
       "      <td>2018-01-30</td>\n",
       "      <td>93.300003</td>\n",
       "      <td>93.660004</td>\n",
       "      <td>92.099998</td>\n",
       "      <td>92.739998</td>\n",
       "      <td>92.306389</td>\n",
       "      <td>38635100</td>\n",
       "      <td>91.862</td>\n",
       "      <td>86.5244</td>\n",
       "      <td>1</td>\n",
       "      <td>95.010002</td>\n",
       "      <td>2.270004</td>\n",
       "      <td>30.540009</td>\n",
       "    </tr>\n",
       "    <tr>\n",
       "      <th>776</th>\n",
       "      <td>2018-01-31</td>\n",
       "      <td>93.750000</td>\n",
       "      <td>95.400002</td>\n",
       "      <td>93.510002</td>\n",
       "      <td>95.010002</td>\n",
       "      <td>94.565781</td>\n",
       "      <td>48756300</td>\n",
       "      <td>92.349</td>\n",
       "      <td>86.7606</td>\n",
       "      <td>1</td>\n",
       "      <td>94.260002</td>\n",
       "      <td>-0.750000</td>\n",
       "      <td>29.790009</td>\n",
       "    </tr>\n",
       "    <tr>\n",
       "      <th>777</th>\n",
       "      <td>2018-02-01</td>\n",
       "      <td>94.790001</td>\n",
       "      <td>96.070000</td>\n",
       "      <td>93.580002</td>\n",
       "      <td>94.260002</td>\n",
       "      <td>93.819290</td>\n",
       "      <td>47227900</td>\n",
       "      <td>92.765</td>\n",
       "      <td>86.9978</td>\n",
       "      <td>1</td>\n",
       "      <td>91.779999</td>\n",
       "      <td>-2.480003</td>\n",
       "      <td>27.310006</td>\n",
       "    </tr>\n",
       "    <tr>\n",
       "      <th>778</th>\n",
       "      <td>2018-02-02</td>\n",
       "      <td>93.639999</td>\n",
       "      <td>93.970001</td>\n",
       "      <td>91.500000</td>\n",
       "      <td>91.779999</td>\n",
       "      <td>91.350883</td>\n",
       "      <td>47867800</td>\n",
       "      <td>92.943</td>\n",
       "      <td>87.1828</td>\n",
       "      <td>1</td>\n",
       "      <td>88.000000</td>\n",
       "      <td>-3.779999</td>\n",
       "      <td>23.530007</td>\n",
       "    </tr>\n",
       "    <tr>\n",
       "      <th>779</th>\n",
       "      <td>2018-02-05</td>\n",
       "      <td>90.559998</td>\n",
       "      <td>93.239998</td>\n",
       "      <td>88.000000</td>\n",
       "      <td>88.000000</td>\n",
       "      <td>87.588554</td>\n",
       "      <td>51031500</td>\n",
       "      <td>92.582</td>\n",
       "      <td>87.2684</td>\n",
       "      <td>1</td>\n",
       "      <td>NaN</td>\n",
       "      <td>NaN</td>\n",
       "      <td>NaN</td>\n",
       "    </tr>\n",
       "  </tbody>\n",
       "</table>\n",
       "</div>"
      ],
      "text/plain": [
       "           Date       Open       High        Low      Close  Adj Close  \\\n",
       "775  2018-01-30  93.300003  93.660004  92.099998  92.739998  92.306389   \n",
       "776  2018-01-31  93.750000  95.400002  93.510002  95.010002  94.565781   \n",
       "777  2018-02-01  94.790001  96.070000  93.580002  94.260002  93.819290   \n",
       "778  2018-02-02  93.639999  93.970001  91.500000  91.779999  91.350883   \n",
       "779  2018-02-05  90.559998  93.239998  88.000000  88.000000  87.588554   \n",
       "\n",
       "       Volume    MA10     MA50  Shares     Close1    Profit     wealth  \n",
       "775  38635100  91.862  86.5244       1  95.010002  2.270004  30.540009  \n",
       "776  48756300  92.349  86.7606       1  94.260002 -0.750000  29.790009  \n",
       "777  47227900  92.765  86.9978       1  91.779999 -2.480003  27.310006  \n",
       "778  47867800  92.943  87.1828       1  88.000000 -3.779999  23.530007  \n",
       "779  51031500  92.582  87.2684       1        NaN       NaN        NaN  "
      ]
     },
     "execution_count": 177,
     "metadata": {},
     "output_type": "execute_result"
    }
   ],
   "source": [
    "ms['wealth'] = ms['Profit'].cumsum()\n",
    "\n",
    "ms.tail()"
   ]
  },
  {
   "cell_type": "markdown",
   "metadata": {},
   "source": [
    "Overall, this strategy makes about $24\n",
    "\n",
    "In the last row, the profit and the wealth have `NaN` values, because those returns are computed from `Close1`, and `Close1` is calculated using `shift(-1)`. Then, we print out wealth, which in fact is a sum of profit."
   ]
  },
  {
   "cell_type": "code",
   "execution_count": 180,
   "metadata": {},
   "outputs": [
    {
     "data": {
      "text/plain": [
       "23.53000699999999"
      ]
     },
     "execution_count": 180,
     "metadata": {},
     "output_type": "execute_result"
    }
   ],
   "source": [
    "# This shows how much this strategy makes\n",
    "ms.iloc[-2]['wealth']"
   ]
  }
 ],
 "metadata": {
  "kernelspec": {
   "display_name": "Python 3",
   "language": "python",
   "name": "python3"
  },
  "language_info": {
   "codemirror_mode": {
    "name": "ipython",
    "version": 3
   },
   "file_extension": ".py",
   "mimetype": "text/x-python",
   "name": "python",
   "nbconvert_exporter": "python",
   "pygments_lexer": "ipython3",
   "version": "3.12.4"
  }
 },
 "nbformat": 4,
 "nbformat_minor": 2
}
